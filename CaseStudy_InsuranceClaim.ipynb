{
 "cells": [
  {
   "cell_type": "code",
   "execution_count": 79,
   "id": "48753f1a",
   "metadata": {
    "ExecuteTime": {
     "end_time": "2022-11-01T04:17:48.144254Z",
     "start_time": "2022-11-01T04:17:48.138274Z"
    }
   },
   "outputs": [],
   "source": [
    "import numpy as np\n",
    "import pandas as pd\n",
    "import datetime as dt\n",
    "import matplotlib.pyplot as plt\n",
    "%matplotlib inline\n",
    "import seaborn as sns\n",
    "import scipy.stats as stats"
   ]
  },
  {
   "cell_type": "code",
   "execution_count": 80,
   "id": "cc9071d6",
   "metadata": {
    "ExecuteTime": {
     "end_time": "2022-11-01T04:17:48.160200Z",
     "start_time": "2022-11-01T04:17:48.145250Z"
    }
   },
   "outputs": [],
   "source": [
    "# setting display format for float output\n",
    "pd.options.display.float_format = '{:0.2f}'.format"
   ]
  },
  {
   "cell_type": "markdown",
   "id": "1a3b3cd3",
   "metadata": {},
   "source": [
    "### 1. Importing the data and merging"
   ]
  },
  {
   "cell_type": "code",
   "execution_count": 81,
   "id": "10791400",
   "metadata": {
    "ExecuteTime": {
     "end_time": "2022-11-01T04:17:48.192093Z",
     "start_time": "2022-11-01T04:17:48.161196Z"
    }
   },
   "outputs": [],
   "source": [
    "file_path = 'D:/Academics/Data Science/AnalytixLabs/Python/Case Studies/Python Foundation Case Study 3 - Insurance Claims Case Study/'\n",
    "claims = pd.read_csv(file_path + 'claims.csv')\n",
    "cust = pd.read_csv(file_path + 'cust_demographics.csv')"
   ]
  },
  {
   "cell_type": "code",
   "execution_count": 82,
   "id": "21afed73",
   "metadata": {
    "ExecuteTime": {
     "end_time": "2022-11-01T04:17:48.208040Z",
     "start_time": "2022-11-01T04:17:48.193089Z"
    }
   },
   "outputs": [
    {
     "data": {
      "text/html": [
       "<div>\n",
       "<style scoped>\n",
       "    .dataframe tbody tr th:only-of-type {\n",
       "        vertical-align: middle;\n",
       "    }\n",
       "\n",
       "    .dataframe tbody tr th {\n",
       "        vertical-align: top;\n",
       "    }\n",
       "\n",
       "    .dataframe thead th {\n",
       "        text-align: right;\n",
       "    }\n",
       "</style>\n",
       "<table border=\"1\" class=\"dataframe\">\n",
       "  <thead>\n",
       "    <tr style=\"text-align: right;\">\n",
       "      <th></th>\n",
       "      <th>claim_id</th>\n",
       "      <th>customer_id</th>\n",
       "      <th>incident_cause</th>\n",
       "      <th>claim_date</th>\n",
       "      <th>claim_area</th>\n",
       "      <th>police_report</th>\n",
       "      <th>claim_type</th>\n",
       "      <th>claim_amount</th>\n",
       "      <th>total_policy_claims</th>\n",
       "      <th>fraudulent</th>\n",
       "    </tr>\n",
       "  </thead>\n",
       "  <tbody>\n",
       "    <tr>\n",
       "      <th>0</th>\n",
       "      <td>54004764</td>\n",
       "      <td>21868593</td>\n",
       "      <td>Driver error</td>\n",
       "      <td>11/27/2017</td>\n",
       "      <td>Auto</td>\n",
       "      <td>No</td>\n",
       "      <td>Material only</td>\n",
       "      <td>$2980</td>\n",
       "      <td>1.00</td>\n",
       "      <td>No</td>\n",
       "    </tr>\n",
       "    <tr>\n",
       "      <th>1</th>\n",
       "      <td>33985796</td>\n",
       "      <td>75740424</td>\n",
       "      <td>Crime</td>\n",
       "      <td>10/03/2018</td>\n",
       "      <td>Home</td>\n",
       "      <td>Unknown</td>\n",
       "      <td>Material only</td>\n",
       "      <td>$2980</td>\n",
       "      <td>3.00</td>\n",
       "      <td>No</td>\n",
       "    </tr>\n",
       "  </tbody>\n",
       "</table>\n",
       "</div>"
      ],
      "text/plain": [
       "   claim_id  customer_id incident_cause  claim_date claim_area police_report  \\\n",
       "0  54004764     21868593   Driver error  11/27/2017       Auto            No   \n",
       "1  33985796     75740424          Crime  10/03/2018       Home       Unknown   \n",
       "\n",
       "      claim_type claim_amount  total_policy_claims fraudulent  \n",
       "0  Material only        $2980                 1.00         No  \n",
       "1  Material only        $2980                 3.00         No  "
      ]
     },
     "execution_count": 82,
     "metadata": {},
     "output_type": "execute_result"
    }
   ],
   "source": [
    "claims.head(2)"
   ]
  },
  {
   "cell_type": "code",
   "execution_count": 83,
   "id": "384f7c51",
   "metadata": {
    "ExecuteTime": {
     "end_time": "2022-11-01T04:17:48.223986Z",
     "start_time": "2022-11-01T04:17:48.209037Z"
    }
   },
   "outputs": [
    {
     "name": "stdout",
     "output_type": "stream",
     "text": [
      "<class 'pandas.core.frame.DataFrame'>\n",
      "RangeIndex: 1100 entries, 0 to 1099\n",
      "Data columns (total 10 columns):\n",
      " #   Column               Non-Null Count  Dtype  \n",
      "---  ------               --------------  -----  \n",
      " 0   claim_id             1100 non-null   int64  \n",
      " 1   customer_id          1100 non-null   int64  \n",
      " 2   incident_cause       1100 non-null   object \n",
      " 3   claim_date           1100 non-null   object \n",
      " 4   claim_area           1100 non-null   object \n",
      " 5   police_report        1100 non-null   object \n",
      " 6   claim_type           1100 non-null   object \n",
      " 7   claim_amount         1035 non-null   object \n",
      " 8   total_policy_claims  1090 non-null   float64\n",
      " 9   fraudulent           1100 non-null   object \n",
      "dtypes: float64(1), int64(2), object(7)\n",
      "memory usage: 86.1+ KB\n"
     ]
    }
   ],
   "source": [
    "claims.info()"
   ]
  },
  {
   "cell_type": "code",
   "execution_count": 84,
   "id": "14e669b7",
   "metadata": {
    "ExecuteTime": {
     "end_time": "2022-11-01T04:17:48.239932Z",
     "start_time": "2022-11-01T04:17:48.224989Z"
    }
   },
   "outputs": [
    {
     "data": {
      "text/html": [
       "<div>\n",
       "<style scoped>\n",
       "    .dataframe tbody tr th:only-of-type {\n",
       "        vertical-align: middle;\n",
       "    }\n",
       "\n",
       "    .dataframe tbody tr th {\n",
       "        vertical-align: top;\n",
       "    }\n",
       "\n",
       "    .dataframe thead th {\n",
       "        text-align: right;\n",
       "    }\n",
       "</style>\n",
       "<table border=\"1\" class=\"dataframe\">\n",
       "  <thead>\n",
       "    <tr style=\"text-align: right;\">\n",
       "      <th></th>\n",
       "      <th>CUST_ID</th>\n",
       "      <th>gender</th>\n",
       "      <th>DateOfBirth</th>\n",
       "      <th>State</th>\n",
       "      <th>Contact</th>\n",
       "      <th>Segment</th>\n",
       "    </tr>\n",
       "  </thead>\n",
       "  <tbody>\n",
       "    <tr>\n",
       "      <th>0</th>\n",
       "      <td>21868593</td>\n",
       "      <td>Female</td>\n",
       "      <td>12-Jan-79</td>\n",
       "      <td>VT</td>\n",
       "      <td>789-916-8172</td>\n",
       "      <td>Platinum</td>\n",
       "    </tr>\n",
       "    <tr>\n",
       "      <th>1</th>\n",
       "      <td>75740424</td>\n",
       "      <td>Female</td>\n",
       "      <td>13-Jan-70</td>\n",
       "      <td>ME</td>\n",
       "      <td>265-543-1264</td>\n",
       "      <td>Silver</td>\n",
       "    </tr>\n",
       "  </tbody>\n",
       "</table>\n",
       "</div>"
      ],
      "text/plain": [
       "    CUST_ID  gender DateOfBirth State       Contact   Segment\n",
       "0  21868593  Female   12-Jan-79    VT  789-916-8172  Platinum\n",
       "1  75740424  Female   13-Jan-70    ME  265-543-1264    Silver"
      ]
     },
     "execution_count": 84,
     "metadata": {},
     "output_type": "execute_result"
    }
   ],
   "source": [
    "cust.head(2)"
   ]
  },
  {
   "cell_type": "code",
   "execution_count": 85,
   "id": "6b518652",
   "metadata": {
    "ExecuteTime": {
     "end_time": "2022-11-01T04:17:48.255880Z",
     "start_time": "2022-11-01T04:17:48.240934Z"
    }
   },
   "outputs": [
    {
     "name": "stdout",
     "output_type": "stream",
     "text": [
      "<class 'pandas.core.frame.DataFrame'>\n",
      "RangeIndex: 1085 entries, 0 to 1084\n",
      "Data columns (total 6 columns):\n",
      " #   Column       Non-Null Count  Dtype \n",
      "---  ------       --------------  ----- \n",
      " 0   CUST_ID      1085 non-null   int64 \n",
      " 1   gender       1085 non-null   object\n",
      " 2   DateOfBirth  1085 non-null   object\n",
      " 3   State        1085 non-null   object\n",
      " 4   Contact      1085 non-null   object\n",
      " 5   Segment      1085 non-null   object\n",
      "dtypes: int64(1), object(5)\n",
      "memory usage: 51.0+ KB\n"
     ]
    }
   ],
   "source": [
    "cust.info()"
   ]
  },
  {
   "cell_type": "code",
   "execution_count": 86,
   "id": "8d35153b",
   "metadata": {
    "ExecuteTime": {
     "end_time": "2022-11-01T04:17:48.271830Z",
     "start_time": "2022-11-01T04:17:48.256876Z"
    }
   },
   "outputs": [
    {
     "data": {
      "text/html": [
       "<div>\n",
       "<style scoped>\n",
       "    .dataframe tbody tr th:only-of-type {\n",
       "        vertical-align: middle;\n",
       "    }\n",
       "\n",
       "    .dataframe tbody tr th {\n",
       "        vertical-align: top;\n",
       "    }\n",
       "\n",
       "    .dataframe thead th {\n",
       "        text-align: right;\n",
       "    }\n",
       "</style>\n",
       "<table border=\"1\" class=\"dataframe\">\n",
       "  <thead>\n",
       "    <tr style=\"text-align: right;\">\n",
       "      <th></th>\n",
       "      <th>claim_id</th>\n",
       "      <th>customer_id</th>\n",
       "      <th>incident_cause</th>\n",
       "      <th>claim_date</th>\n",
       "      <th>claim_area</th>\n",
       "      <th>police_report</th>\n",
       "      <th>claim_type</th>\n",
       "      <th>claim_amount</th>\n",
       "      <th>total_policy_claims</th>\n",
       "      <th>fraudulent</th>\n",
       "      <th>CUST_ID</th>\n",
       "      <th>gender</th>\n",
       "      <th>DateOfBirth</th>\n",
       "      <th>State</th>\n",
       "      <th>Contact</th>\n",
       "      <th>Segment</th>\n",
       "    </tr>\n",
       "  </thead>\n",
       "  <tbody>\n",
       "    <tr>\n",
       "      <th>0</th>\n",
       "      <td>54004764</td>\n",
       "      <td>21868593</td>\n",
       "      <td>Driver error</td>\n",
       "      <td>11/27/2017</td>\n",
       "      <td>Auto</td>\n",
       "      <td>No</td>\n",
       "      <td>Material only</td>\n",
       "      <td>$2980</td>\n",
       "      <td>1.00</td>\n",
       "      <td>No</td>\n",
       "      <td>21868593</td>\n",
       "      <td>Female</td>\n",
       "      <td>12-Jan-79</td>\n",
       "      <td>VT</td>\n",
       "      <td>789-916-8172</td>\n",
       "      <td>Platinum</td>\n",
       "    </tr>\n",
       "    <tr>\n",
       "      <th>1</th>\n",
       "      <td>33985796</td>\n",
       "      <td>75740424</td>\n",
       "      <td>Crime</td>\n",
       "      <td>10/03/2018</td>\n",
       "      <td>Home</td>\n",
       "      <td>Unknown</td>\n",
       "      <td>Material only</td>\n",
       "      <td>$2980</td>\n",
       "      <td>3.00</td>\n",
       "      <td>No</td>\n",
       "      <td>75740424</td>\n",
       "      <td>Female</td>\n",
       "      <td>13-Jan-70</td>\n",
       "      <td>ME</td>\n",
       "      <td>265-543-1264</td>\n",
       "      <td>Silver</td>\n",
       "    </tr>\n",
       "    <tr>\n",
       "      <th>2</th>\n",
       "      <td>53522022</td>\n",
       "      <td>30308357</td>\n",
       "      <td>Other driver error</td>\n",
       "      <td>02/02/2018</td>\n",
       "      <td>Auto</td>\n",
       "      <td>No</td>\n",
       "      <td>Material only</td>\n",
       "      <td>$3369.5</td>\n",
       "      <td>1.00</td>\n",
       "      <td>Yes</td>\n",
       "      <td>30308357</td>\n",
       "      <td>Female</td>\n",
       "      <td>11-Mar-84</td>\n",
       "      <td>TN</td>\n",
       "      <td>798-631-4758</td>\n",
       "      <td>Silver</td>\n",
       "    </tr>\n",
       "  </tbody>\n",
       "</table>\n",
       "</div>"
      ],
      "text/plain": [
       "   claim_id  customer_id      incident_cause  claim_date claim_area  \\\n",
       "0  54004764     21868593        Driver error  11/27/2017       Auto   \n",
       "1  33985796     75740424               Crime  10/03/2018       Home   \n",
       "2  53522022     30308357  Other driver error  02/02/2018       Auto   \n",
       "\n",
       "  police_report     claim_type claim_amount  total_policy_claims fraudulent  \\\n",
       "0            No  Material only        $2980                 1.00         No   \n",
       "1       Unknown  Material only        $2980                 3.00         No   \n",
       "2            No  Material only      $3369.5                 1.00        Yes   \n",
       "\n",
       "    CUST_ID  gender DateOfBirth State       Contact   Segment  \n",
       "0  21868593  Female   12-Jan-79    VT  789-916-8172  Platinum  \n",
       "1  75740424  Female   13-Jan-70    ME  265-543-1264    Silver  \n",
       "2  30308357  Female   11-Mar-84    TN  798-631-4758    Silver  "
      ]
     },
     "execution_count": 86,
     "metadata": {},
     "output_type": "execute_result"
    }
   ],
   "source": [
    "claims_cust = pd.merge( left = claims , right = cust , left_on='customer_id' , right_on='CUST_ID' , how = 'inner')\n",
    "claims_cust.head(3)"
   ]
  },
  {
   "cell_type": "code",
   "execution_count": 87,
   "id": "61ce8b1a",
   "metadata": {
    "ExecuteTime": {
     "end_time": "2022-11-01T04:17:48.287778Z",
     "start_time": "2022-11-01T04:17:48.272824Z"
    }
   },
   "outputs": [
    {
     "name": "stdout",
     "output_type": "stream",
     "text": [
      "<class 'pandas.core.frame.DataFrame'>\n",
      "Int64Index: 1085 entries, 0 to 1084\n",
      "Data columns (total 16 columns):\n",
      " #   Column               Non-Null Count  Dtype  \n",
      "---  ------               --------------  -----  \n",
      " 0   claim_id             1085 non-null   int64  \n",
      " 1   customer_id          1085 non-null   int64  \n",
      " 2   incident_cause       1085 non-null   object \n",
      " 3   claim_date           1085 non-null   object \n",
      " 4   claim_area           1085 non-null   object \n",
      " 5   police_report        1085 non-null   object \n",
      " 6   claim_type           1085 non-null   object \n",
      " 7   claim_amount         1020 non-null   object \n",
      " 8   total_policy_claims  1075 non-null   float64\n",
      " 9   fraudulent           1085 non-null   object \n",
      " 10  CUST_ID              1085 non-null   int64  \n",
      " 11  gender               1085 non-null   object \n",
      " 12  DateOfBirth          1085 non-null   object \n",
      " 13  State                1085 non-null   object \n",
      " 14  Contact              1085 non-null   object \n",
      " 15  Segment              1085 non-null   object \n",
      "dtypes: float64(1), int64(3), object(12)\n",
      "memory usage: 144.1+ KB\n"
     ]
    }
   ],
   "source": [
    "claims_cust.info()"
   ]
  },
  {
   "cell_type": "markdown",
   "id": "9cf6f486",
   "metadata": {},
   "source": [
    "### 2. Perform a data audit for the datatypes"
   ]
  },
  {
   "cell_type": "code",
   "execution_count": 88,
   "id": "a52a2824",
   "metadata": {
    "ExecuteTime": {
     "end_time": "2022-11-01T04:17:48.303726Z",
     "start_time": "2022-11-01T04:17:48.289766Z"
    }
   },
   "outputs": [],
   "source": [
    "claims_cust.claim_date = pd.to_datetime( claims_cust.claim_date, format='%m/%d/%Y' )"
   ]
  },
  {
   "cell_type": "code",
   "execution_count": 89,
   "id": "b38e5da3",
   "metadata": {
    "ExecuteTime": {
     "end_time": "2022-11-01T04:17:48.319118Z",
     "start_time": "2022-11-01T04:17:48.304715Z"
    }
   },
   "outputs": [],
   "source": [
    "claims_cust.DateOfBirth = pd.to_datetime( claims_cust.DateOfBirth, format='%d-%b-%y' )\n",
    "claims_cust.DateOfBirth = pd.Series( np.where( claims_cust.DateOfBirth.dt.year >= 2022 ,\n",
    "                                               claims_cust.DateOfBirth + pd.DateOffset(years=-100) ,\n",
    "                                               claims_cust.DateOfBirth))"
   ]
  },
  {
   "cell_type": "code",
   "execution_count": 90,
   "id": "5bc8cef7",
   "metadata": {
    "ExecuteTime": {
     "end_time": "2022-11-01T04:17:48.335108Z",
     "start_time": "2022-11-01T04:17:48.320124Z"
    }
   },
   "outputs": [
    {
     "name": "stdout",
     "output_type": "stream",
     "text": [
      "<class 'pandas.core.frame.DataFrame'>\n",
      "Int64Index: 1085 entries, 0 to 1084\n",
      "Data columns (total 16 columns):\n",
      " #   Column               Non-Null Count  Dtype         \n",
      "---  ------               --------------  -----         \n",
      " 0   claim_id             1085 non-null   int64         \n",
      " 1   customer_id          1085 non-null   int64         \n",
      " 2   incident_cause       1085 non-null   object        \n",
      " 3   claim_date           1085 non-null   datetime64[ns]\n",
      " 4   claim_area           1085 non-null   object        \n",
      " 5   police_report        1085 non-null   object        \n",
      " 6   claim_type           1085 non-null   object        \n",
      " 7   claim_amount         1020 non-null   object        \n",
      " 8   total_policy_claims  1075 non-null   float64       \n",
      " 9   fraudulent           1085 non-null   object        \n",
      " 10  CUST_ID              1085 non-null   int64         \n",
      " 11  gender               1085 non-null   object        \n",
      " 12  DateOfBirth          1085 non-null   datetime64[ns]\n",
      " 13  State                1085 non-null   object        \n",
      " 14  Contact              1085 non-null   object        \n",
      " 15  Segment              1085 non-null   object        \n",
      "dtypes: datetime64[ns](2), float64(1), int64(3), object(10)\n",
      "memory usage: 144.1+ KB\n"
     ]
    }
   ],
   "source": [
    "claims_cust.info()"
   ]
  },
  {
   "cell_type": "markdown",
   "id": "9e11eb02",
   "metadata": {},
   "source": [
    "### 3. Convert the column claim_amount to numeric"
   ]
  },
  {
   "cell_type": "code",
   "execution_count": 91,
   "id": "2fa35855",
   "metadata": {
    "ExecuteTime": {
     "end_time": "2022-11-01T04:17:48.351084Z",
     "start_time": "2022-11-01T04:17:48.336103Z"
    }
   },
   "outputs": [],
   "source": [
    "claims_cust.claim_amount = claims_cust.claim_amount.str.replace('$', '', regex=False).astype('float64')"
   ]
  },
  {
   "cell_type": "markdown",
   "id": "e439ecb8",
   "metadata": {},
   "source": [
    "### 4. Of all the injury claims, some of them have gone unreported with the police. Create an alert flag (1,0) for all such claims."
   ]
  },
  {
   "cell_type": "code",
   "execution_count": 92,
   "id": "47b6ccdf",
   "metadata": {
    "ExecuteTime": {
     "end_time": "2022-11-01T04:17:48.366330Z",
     "start_time": "2022-11-01T04:17:48.352076Z"
    }
   },
   "outputs": [],
   "source": [
    "claims_cust.loc[(claims_cust.claim_type.str.contains(pat='injury', case=False)) &\n",
    "                ((claims_cust.police_report == 'No') | (claims_cust.police_report == 'Unknown')) ,\n",
    "               'alert_flag'] = 1\n",
    "claims_cust.loc[((claims_cust.claim_type.str.contains(pat='injury', case=False)) &\n",
    "                (claims_cust.police_report == 'Yes'))\n",
    "              | (~claims_cust.claim_type.str.contains(pat='injury', case=False)) ,\n",
    "               'alert_flag'] = 0"
   ]
  },
  {
   "cell_type": "markdown",
   "id": "37758cbc",
   "metadata": {},
   "source": [
    "### 5. Retain the most recent observaton and delete any duplicated records in the data based on the customer ID column"
   ]
  },
  {
   "cell_type": "code",
   "execution_count": 93,
   "id": "4d7d8a8e",
   "metadata": {
    "ExecuteTime": {
     "end_time": "2022-11-01T04:17:48.381166Z",
     "start_time": "2022-11-01T04:17:48.367336Z"
    }
   },
   "outputs": [],
   "source": [
    "claims_cust = claims_cust.sort_values('claim_date').drop_duplicates(subset = 'customer_id',\n",
    "                                                                    keep = 'last')"
   ]
  },
  {
   "cell_type": "markdown",
   "id": "b86e98a4",
   "metadata": {},
   "source": [
    "### 6. Check for missing values and impute the missing values with an appropriate value"
   ]
  },
  {
   "cell_type": "code",
   "execution_count": 94,
   "id": "48edc36b",
   "metadata": {
    "ExecuteTime": {
     "end_time": "2022-11-01T04:17:48.396480Z",
     "start_time": "2022-11-01T04:17:48.382179Z"
    }
   },
   "outputs": [],
   "source": [
    "claims_cust.claim_amount = claims_cust.claim_amount.fillna(claims_cust.claim_amount.mean())\n",
    "claims_cust.total_policy_claims = claims_cust.total_policy_claims.fillna(claims_cust.total_policy_claims.mode()[0])"
   ]
  },
  {
   "cell_type": "markdown",
   "id": "31191772",
   "metadata": {},
   "source": [
    "### 7. Calculate the age of customers in years. Based on the age, categorize the customers."
   ]
  },
  {
   "cell_type": "code",
   "execution_count": 95,
   "id": "26c31beb",
   "metadata": {
    "ExecuteTime": {
     "end_time": "2022-11-01T04:17:48.412430Z",
     "start_time": "2022-11-01T04:17:48.397479Z"
    }
   },
   "outputs": [],
   "source": [
    "claims_cust['age'] = (claims_cust.claim_date - claims_cust.DateOfBirth).dt.days / 365.25\n",
    "cond_list = [claims_cust.age < 18 ,\n",
    "             (claims_cust.age >= 18) & (claims_cust.age < 30) ,\n",
    "             (claims_cust.age >= 30) & (claims_cust.age < 60) ,\n",
    "             claims_cust.age >= 60]\n",
    "choice_list = ['Children' , 'Youth' , 'Adult', 'Senior']\n",
    "claims_cust['cust_cat'] = np.select(cond_list, choice_list)"
   ]
  },
  {
   "cell_type": "markdown",
   "id": "4f3a61f4",
   "metadata": {},
   "source": [
    "### 8. What is the average amount claimed by the customers from various segments?"
   ]
  },
  {
   "cell_type": "code",
   "execution_count": 96,
   "id": "36003221",
   "metadata": {
    "ExecuteTime": {
     "end_time": "2022-11-01T04:17:48.428398Z",
     "start_time": "2022-11-01T04:17:48.413428Z"
    }
   },
   "outputs": [
    {
     "data": {
      "text/html": [
       "<div>\n",
       "<style scoped>\n",
       "    .dataframe tbody tr th:only-of-type {\n",
       "        vertical-align: middle;\n",
       "    }\n",
       "\n",
       "    .dataframe tbody tr th {\n",
       "        vertical-align: top;\n",
       "    }\n",
       "\n",
       "    .dataframe thead th {\n",
       "        text-align: right;\n",
       "    }\n",
       "</style>\n",
       "<table border=\"1\" class=\"dataframe\">\n",
       "  <thead>\n",
       "    <tr style=\"text-align: right;\">\n",
       "      <th></th>\n",
       "      <th>mean_claim_amount</th>\n",
       "    </tr>\n",
       "    <tr>\n",
       "      <th>Segment</th>\n",
       "      <th></th>\n",
       "    </tr>\n",
       "  </thead>\n",
       "  <tbody>\n",
       "    <tr>\n",
       "      <th>Gold</th>\n",
       "      <td>12846.40</td>\n",
       "    </tr>\n",
       "    <tr>\n",
       "      <th>Platinum</th>\n",
       "      <td>12371.65</td>\n",
       "    </tr>\n",
       "    <tr>\n",
       "      <th>Silver</th>\n",
       "      <td>12267.86</td>\n",
       "    </tr>\n",
       "  </tbody>\n",
       "</table>\n",
       "</div>"
      ],
      "text/plain": [
       "          mean_claim_amount\n",
       "Segment                    \n",
       "Gold               12846.40\n",
       "Platinum           12371.65\n",
       "Silver             12267.86"
      ]
     },
     "execution_count": 96,
     "metadata": {},
     "output_type": "execute_result"
    }
   ],
   "source": [
    "claims_cust.groupby('Segment').agg({'claim_amount':'mean'}).rename(columns={'claim_amount':'mean_claim_amount'})"
   ]
  },
  {
   "cell_type": "markdown",
   "id": "0248b90a",
   "metadata": {},
   "source": [
    "### 9. What is the total claim amount based on incident cause for all the claims that have been done at least 20 days prior to 1st of October, 2018"
   ]
  },
  {
   "cell_type": "code",
   "execution_count": 97,
   "id": "156eaeef",
   "metadata": {
    "ExecuteTime": {
     "end_time": "2022-11-01T04:17:48.444345Z",
     "start_time": "2022-11-01T04:17:48.429395Z"
    }
   },
   "outputs": [
    {
     "data": {
      "text/html": [
       "<div>\n",
       "<style scoped>\n",
       "    .dataframe tbody tr th:only-of-type {\n",
       "        vertical-align: middle;\n",
       "    }\n",
       "\n",
       "    .dataframe tbody tr th {\n",
       "        vertical-align: top;\n",
       "    }\n",
       "\n",
       "    .dataframe thead th {\n",
       "        text-align: right;\n",
       "    }\n",
       "</style>\n",
       "<table border=\"1\" class=\"dataframe\">\n",
       "  <thead>\n",
       "    <tr style=\"text-align: right;\">\n",
       "      <th></th>\n",
       "      <th>total_claim_amount</th>\n",
       "    </tr>\n",
       "    <tr>\n",
       "      <th>incident_cause</th>\n",
       "      <th></th>\n",
       "    </tr>\n",
       "  </thead>\n",
       "  <tbody>\n",
       "    <tr>\n",
       "      <th>Crime</th>\n",
       "      <td>721938.63</td>\n",
       "    </tr>\n",
       "    <tr>\n",
       "      <th>Driver error</th>\n",
       "      <td>3315850.72</td>\n",
       "    </tr>\n",
       "    <tr>\n",
       "      <th>Natural causes</th>\n",
       "      <td>1312987.04</td>\n",
       "    </tr>\n",
       "    <tr>\n",
       "      <th>Other causes</th>\n",
       "      <td>3723151.80</td>\n",
       "    </tr>\n",
       "    <tr>\n",
       "      <th>Other driver error</th>\n",
       "      <td>3277536.45</td>\n",
       "    </tr>\n",
       "  </tbody>\n",
       "</table>\n",
       "</div>"
      ],
      "text/plain": [
       "                    total_claim_amount\n",
       "incident_cause                        \n",
       "Crime                        721938.63\n",
       "Driver error                3315850.72\n",
       "Natural causes              1312987.04\n",
       "Other causes                3723151.80\n",
       "Other driver error          3277536.45"
      ]
     },
     "execution_count": 97,
     "metadata": {},
     "output_type": "execute_result"
    }
   ],
   "source": [
    "date_var = pd.to_datetime('2018-Oct-1', format='%Y-%b-%d')\n",
    "\n",
    "claims_cust.loc[claims_cust.claim_date <= date_var + pd.DateOffset(days=-20) , : ] \\\n",
    "            .groupby('incident_cause').agg({'claim_amount':'sum'}) \\\n",
    "            .rename(columns={'claim_amount':'total_claim_amount'})"
   ]
  },
  {
   "cell_type": "markdown",
   "id": "742694c4",
   "metadata": {
    "ExecuteTime": {
     "end_time": "2022-09-30T04:07:37.973204Z",
     "start_time": "2022-09-30T04:07:37.967202Z"
    }
   },
   "source": [
    "### 10. How many adults from TX, DE and AK claimed insurance for driver related issues and causes? "
   ]
  },
  {
   "cell_type": "code",
   "execution_count": 98,
   "id": "107c86c9",
   "metadata": {
    "ExecuteTime": {
     "end_time": "2022-11-01T04:17:48.460292Z",
     "start_time": "2022-11-01T04:17:48.445342Z"
    }
   },
   "outputs": [
    {
     "data": {
      "text/html": [
       "<div>\n",
       "<style scoped>\n",
       "    .dataframe tbody tr th:only-of-type {\n",
       "        vertical-align: middle;\n",
       "    }\n",
       "\n",
       "    .dataframe tbody tr th {\n",
       "        vertical-align: top;\n",
       "    }\n",
       "\n",
       "    .dataframe thead th {\n",
       "        text-align: right;\n",
       "    }\n",
       "</style>\n",
       "<table border=\"1\" class=\"dataframe\">\n",
       "  <thead>\n",
       "    <tr style=\"text-align: right;\">\n",
       "      <th></th>\n",
       "      <th>total_driver_causes</th>\n",
       "    </tr>\n",
       "    <tr>\n",
       "      <th>State</th>\n",
       "      <th></th>\n",
       "    </tr>\n",
       "  </thead>\n",
       "  <tbody>\n",
       "    <tr>\n",
       "      <th>AK</th>\n",
       "      <td>8</td>\n",
       "    </tr>\n",
       "    <tr>\n",
       "      <th>DE</th>\n",
       "      <td>9</td>\n",
       "    </tr>\n",
       "    <tr>\n",
       "      <th>TX</th>\n",
       "      <td>6</td>\n",
       "    </tr>\n",
       "  </tbody>\n",
       "</table>\n",
       "</div>"
      ],
      "text/plain": [
       "       total_driver_causes\n",
       "State                     \n",
       "AK                       8\n",
       "DE                       9\n",
       "TX                       6"
      ]
     },
     "execution_count": 98,
     "metadata": {},
     "output_type": "execute_result"
    }
   ],
   "source": [
    "# filtering rows with claims by Adults for only Driver related causes\n",
    "claims_cust_driver = claims_cust.loc[(claims_cust.cust_cat == 'Adult') &\n",
    "                                     (claims_cust.incident_cause.str.contains(pat='driver', case=False)) , : ]\n",
    "\n",
    "claims_cust_driver = claims_cust_driver.groupby('State').agg({'State':'count'}) \\\n",
    "                                       .rename(columns={'State':'total_driver_causes'})\n",
    "claims_cust_driver.loc[claims_cust_driver.index.isin(['TX','DE','AK']) , :]"
   ]
  },
  {
   "cell_type": "markdown",
   "id": "6fee31cc",
   "metadata": {
    "ExecuteTime": {
     "end_time": "2022-09-30T04:44:11.565539Z",
     "start_time": "2022-09-30T04:44:11.553875Z"
    }
   },
   "source": [
    "### 11.  Draw a pie chart between the aggregated value of claim amount based on gender and segment."
   ]
  },
  {
   "cell_type": "code",
   "execution_count": 99,
   "id": "d6352c07",
   "metadata": {
    "ExecuteTime": {
     "end_time": "2022-11-01T04:17:48.570921Z",
     "start_time": "2022-11-01T04:17:48.461295Z"
    }
   },
   "outputs": [
    {
     "data": {
      "image/png": "[encoded data removed]",
      "text/plain": [
       "<Figure size 792x792 with 1 Axes>"
      ]
     },
     "metadata": {},
     "output_type": "display_data"
    }
   ],
   "source": [
    "# manipulating data for plotting\n",
    "claims_cust_pie = claims_cust.groupby(by=['Segment','gender']).agg({'claim_amount':'sum'})\n",
    "# plotting the pie chart\n",
    "plt.figure(figsize=(11,11))\n",
    "plt.pie(x=claims_cust_pie.claim_amount, autopct= '%0.2f%%')\n",
    "plt.legend(labels=claims_cust_pie.index)\n",
    "plt.title('Claim amount contribution' , fontdict={'fontsize':15})\n",
    "plt.show()"
   ]
  },
  {
   "cell_type": "markdown",
   "id": "df55789d",
   "metadata": {
    "ExecuteTime": {
     "end_time": "2022-09-30T06:03:15.276590Z",
     "start_time": "2022-09-30T06:03:15.092994Z"
    }
   },
   "source": [
    "### 12.  Among males and females, which gender had claimed the most for any type of driver related issues?"
   ]
  },
  {
   "cell_type": "code",
   "execution_count": 100,
   "id": "eef6bbc0",
   "metadata": {
    "ExecuteTime": {
     "end_time": "2022-11-01T04:17:48.664720Z",
     "start_time": "2022-11-01T04:17:48.571917Z"
    }
   },
   "outputs": [
    {
     "name": "stderr",
     "output_type": "stream",
     "text": [
      "C:\\Users\\ASUS\\AppData\\Local\\Temp\\ipykernel_5624\\1389407098.py:8: UserWarning: FixedFormatter should only be used together with FixedLocator\n",
      "  plt.gca().set_yticklabels(['{:,.2f}'.format(y) for y in y_val])\n"
     ]
    },
    {
     "data": {
      "image/png": "[encoded data removed]",
      "text/plain": [
       "<Figure size 720x504 with 1 Axes>"
      ]
     },
     "metadata": {
      "needs_background": "light"
     },
     "output_type": "display_data"
    }
   ],
   "source": [
    "claims_cust_driver = claims_cust.loc[claims_cust.incident_cause.str.contains(pat='driver', case=False) , : ]\n",
    "claims_cust_driver = claims_cust_driver.pivot_table(index='incident_cause', columns='gender',\n",
    "                                                    values='claim_amount', aggfunc='sum')\n",
    "claims_cust_driver.sum(axis=0).plot(kind='bar', rot=0, figsize=(10,7), grid=True)\n",
    "\n",
    "# formatting y values to show numbers with thousand separator\n",
    "y_val = plt.gca().get_yticks()\n",
    "plt.gca().set_yticklabels(['{:,.2f}'.format(y) for y in y_val])\n",
    "\n",
    "plt.ylabel('total_claim_amount')\n",
    "plt.title('Comparision of Male and Female claim value for any type of driver related issues',\n",
    "          pad=10, fontdict={'fontsize':15})\n",
    "plt.show()"
   ]
  },
  {
   "cell_type": "markdown",
   "id": "1af5ca24",
   "metadata": {},
   "source": [
    "### 13.  Which age group had the maximum fraudulent policy claims?"
   ]
  },
  {
   "cell_type": "code",
   "execution_count": 101,
   "id": "50f6f90e",
   "metadata": {
    "ExecuteTime": {
     "end_time": "2022-11-01T04:17:48.757908Z",
     "start_time": "2022-11-01T04:17:48.665734Z"
    }
   },
   "outputs": [
    {
     "data": {
      "image/png": "[encoded data removed]",
      "text/plain": [
       "<Figure size 576x360 with 1 Axes>"
      ]
     },
     "metadata": {
      "needs_background": "light"
     },
     "output_type": "display_data"
    },
    {
     "name": "stdout",
     "output_type": "stream",
     "text": [
      "Customers in the \"ADULT\" age group have the most number of fraudulent claims\n"
     ]
    }
   ],
   "source": [
    "claims_cust_fraud = claims_cust.loc[claims_cust.fraudulent == 'Yes' , :].groupby('cust_cat') \\\n",
    "    .agg({'fraudulent':'count'}).rename(columns={'fraudulent':'fraud_claims_count'}) \\\n",
    "    .sort_values(by='fraud_claims_count') \n",
    "\n",
    "claims_cust_fraud.plot(kind='bar', y='fraud_claims_count', rot=0, figsize=(8,5))\n",
    "# annotate bar plot\n",
    "for x,y in enumerate(claims_cust_fraud.fraud_claims_count) :\n",
    "    plt.text(x-.04, y+1, str(y), color='purple', size='medium', weight='bold')\n",
    "\n",
    "plt.xlabel('Customer age group')\n",
    "plt.ylabel('Number of fraudulent claims')\n",
    "plt.title('Comparison of fraudulent claims count between customer age groups')\n",
    "plt.show()\n",
    "\n",
    "print('Customers in the \"ADULT\" age group have the most number of fraudulent claims')"
   ]
  },
  {
   "cell_type": "markdown",
   "id": "b5adb82b",
   "metadata": {
    "ExecuteTime": {
     "end_time": "2022-09-30T20:41:22.227409Z",
     "start_time": "2022-09-30T20:41:22.203408Z"
    }
   },
   "source": [
    "### 14.  Visualize the monthly trend of the total amount that has been claimed by the customers."
   ]
  },
  {
   "cell_type": "code",
   "execution_count": 102,
   "id": "ac51b6b5",
   "metadata": {
    "ExecuteTime": {
     "end_time": "2022-11-01T04:17:48.773872Z",
     "start_time": "2022-11-01T04:17:48.758907Z"
    }
   },
   "outputs": [],
   "source": [
    "# Manipulating data for plotting\n",
    "claims_cust_trend = claims_cust.groupby(by=[claims_cust.claim_date.dt.year , claims_cust.claim_date.dt.month]) \\\n",
    "                                .agg({'claim_amount':'sum'})\n",
    "claims_cust_trend.index.set_names(['claim_year','claim_month'], level=[0,1], inplace=True)\n",
    "claims_cust_trend = claims_cust_trend.reset_index()\n",
    "claims_cust_trend['monthly_claim_date'] = pd.to_datetime(dict(year = claims_cust_trend.claim_year,\n",
    "                                                              month = claims_cust_trend.claim_month,\n",
    "                                                              day = 1))"
   ]
  },
  {
   "cell_type": "code",
   "execution_count": 103,
   "id": "ad93dd97",
   "metadata": {
    "ExecuteTime": {
     "end_time": "2022-11-01T04:17:48.919604Z",
     "start_time": "2022-11-01T04:17:48.774874Z"
    }
   },
   "outputs": [
    {
     "data": {
      "image/png": "[encoded data removed]",
      "text/plain": [
       "<Figure size 1080x504 with 1 Axes>"
      ]
     },
     "metadata": {
      "needs_background": "light"
     },
     "output_type": "display_data"
    }
   ],
   "source": [
    "# Plotting\n",
    "plt.figure(figsize=(15,7))\n",
    "plt.plot(claims_cust_trend.monthly_claim_date.dt.strftime('%b-%Y'), claims_cust_trend.claim_amount,\n",
    "         marker= 'o', linewidth=2, color='purple')\n",
    "plt.xticks(rotation=60)\n",
    "plt.xlabel('Timeline')\n",
    "plt.ylabel('Claim_amount')\n",
    "plt.title('Monthly trend of total claim amount', fontsize=15)\n",
    "plt.show()"
   ]
  },
  {
   "cell_type": "markdown",
   "id": "7a9aed97",
   "metadata": {
    "ExecuteTime": {
     "end_time": "2022-10-20T07:41:53.903943Z",
     "start_time": "2022-10-20T07:41:53.889946Z"
    }
   },
   "source": [
    "### 15. What is the average claim amount for gender and age categories"
   ]
  },
  {
   "cell_type": "code",
   "execution_count": 104,
   "id": "d69142e8",
   "metadata": {
    "ExecuteTime": {
     "end_time": "2022-11-01T04:17:49.123757Z",
     "start_time": "2022-11-01T04:17:48.921540Z"
    }
   },
   "outputs": [
    {
     "data": {
      "image/png": "[encoded data removed]",
      "text/plain": [
       "<Figure size 789.375x360 with 2 Axes>"
      ]
     },
     "metadata": {},
     "output_type": "display_data"
    }
   ],
   "source": [
    "sns.set_style(\"ticks\",{'axes.grid' : True})\n",
    "g = sns.FacetGrid(claims_cust, col='fraudulent', height=5, aspect=1)\n",
    "g.map_dataframe(sns.barplot, x='cust_cat', y='claim_amount', estimator=np.mean,\n",
    "                hue='gender', hue_order=['Male','Female'], palette=['orange','blue'], ci=None)\n",
    "g.add_legend()\n",
    "plt.show()"
   ]
  },
  {
   "cell_type": "markdown",
   "id": "b16e9886",
   "metadata": {},
   "source": [
    "### 16. Is there any similarity in the amount claimed by males and females?"
   ]
  },
  {
   "cell_type": "code",
   "execution_count": 105,
   "id": "02c09bcb",
   "metadata": {
    "ExecuteTime": {
     "end_time": "2022-11-01T04:17:49.138714Z",
     "start_time": "2022-11-01T04:17:49.124755Z"
    }
   },
   "outputs": [
    {
     "name": "stdout",
     "output_type": "stream",
     "text": [
      "Mean claim amount by Males & Females:\n",
      "Male :  12884.845110657638  | Female :  12101.160474551885\n"
     ]
    }
   ],
   "source": [
    "# separating male and female claim amounts finding mean of the samples\n",
    "claims_male = claims_cust.loc[claims_cust.gender == 'Male','claim_amount']\n",
    "claims_female = claims_cust.loc[claims_cust.gender == 'Female','claim_amount']\n",
    "\n",
    "print('Mean claim amount by Males & Females:')\n",
    "print('Male : ', claims_male.mean(), ' | Female : ', claims_female.mean())"
   ]
  },
  {
   "cell_type": "markdown",
   "id": "3eee2156",
   "metadata": {},
   "source": [
    "Since the two samples are independent from each other, `independent t-test` will help in concluding on the similarity of the two samples\n",
    "\n",
    "**Ho :** Means of amount claimed by Male and Female are statistically similar <br>\n",
    "**Ha :** Means of amount claimed by Male and Female are statistically different"
   ]
  },
  {
   "cell_type": "code",
   "execution_count": 106,
   "id": "c50f0fce",
   "metadata": {
    "ExecuteTime": {
     "end_time": "2022-11-01T04:17:49.154660Z",
     "start_time": "2022-11-01T04:17:49.141700Z"
    }
   },
   "outputs": [
    {
     "name": "stdout",
     "output_type": "stream",
     "text": [
      "Ttest_indResult(statistic=0.9625093446632118, pvalue=0.33601006135365463)\n"
     ]
    }
   ],
   "source": [
    "print(stats.ttest_ind(claims_male, claims_female))"
   ]
  },
  {
   "cell_type": "markdown",
   "id": "8eaa5cc0",
   "metadata": {},
   "source": [
    "Considering a CI of **95%**, as the p-value is greater than 0.05, we **fail to reject the Null Hypothesis**\n",
    "\n",
    "**Business Conclusion:** <br>\n",
    "The amount claimed by Male and Female are statistically similar."
   ]
  },
  {
   "cell_type": "markdown",
   "id": "344ea22e",
   "metadata": {},
   "source": [
    "### 17. Is there any relationship between age category and segment?"
   ]
  },
  {
   "cell_type": "markdown",
   "id": "9bac2d82",
   "metadata": {
    "ExecuteTime": {
     "end_time": "2022-10-21T21:38:43.444302Z",
     "start_time": "2022-10-21T21:38:43.439755Z"
    }
   },
   "source": [
    "Since both are categorical variables, `chi square test` will help in concluding if there is any relationship between the variables\n",
    "\n",
    "**Ho :** There is no association between age category and segment variables <br>\n",
    "**Ha :** There is association between age category and segment variables"
   ]
  },
  {
   "cell_type": "code",
   "execution_count": 107,
   "id": "34dcfd32",
   "metadata": {
    "ExecuteTime": {
     "end_time": "2022-11-01T04:17:49.170602Z",
     "start_time": "2022-11-01T04:17:49.155653Z"
    }
   },
   "outputs": [
    {
     "data": {
      "text/plain": [
       "(5.29543655253879,\n",
       " 0.25830442857623553,\n",
       " 4,\n",
       " array([[255.70779221,   2.75324675, 112.53896104],\n",
       "        [248.81539889,   2.67903525, 109.50556586],\n",
       "        [238.47680891,   2.567718  , 104.9554731 ]]))"
      ]
     },
     "execution_count": 107,
     "metadata": {},
     "output_type": "execute_result"
    }
   ],
   "source": [
    "stats.chi2_contingency(pd.crosstab(index=claims_cust.Segment , columns=claims_cust.cust_cat))"
   ]
  },
  {
   "cell_type": "markdown",
   "id": "4c592347",
   "metadata": {
    "ExecuteTime": {
     "end_time": "2022-10-21T21:36:34.822773Z",
     "start_time": "2022-10-21T21:36:34.802674Z"
    }
   },
   "source": [
    "Considering a CI of **95%**, as the p-value is greater than 0.05, we **fail to reject the Null Hypothesis**\n",
    "\n",
    "**Business Conclusion:** <br>\n",
    "There is no relationship/association between age category and segment variables"
   ]
  },
  {
   "cell_type": "markdown",
   "id": "fa297e55",
   "metadata": {},
   "source": [
    "### 18. The current year has shown a signifcant rise in claim amounts as compared to 2016-17 fiscal average which was $10,000"
   ]
  },
  {
   "cell_type": "markdown",
   "id": "54f975e5",
   "metadata": {},
   "source": [
    "The fiscal average for claim amount in year 2016-2017 is given as `$10000`. <br>\n",
    "Since previous mean has to be compared with current sample, `one sample t-test` will help in concluding the hypothesis\n",
    "\n",
    "**Ho :** The fiscal average claim amount for current year is **significantly less** than `$10,000`  <br>\n",
    "**Ha :** The fiscal average claim amount for current year is **significantly greater** than `$10,000`"
   ]
  },
  {
   "cell_type": "code",
   "execution_count": 108,
   "id": "6eebde49",
   "metadata": {
    "ExecuteTime": {
     "end_time": "2022-11-01T04:17:49.185901Z",
     "start_time": "2022-11-01T04:17:49.171597Z"
    }
   },
   "outputs": [
    {
     "name": "stdout",
     "output_type": "stream",
     "text": [
      "Ttest_1sampResult(statistic=6.146897188063232, pvalue=1.111087909732772e-09)\n"
     ]
    }
   ],
   "source": [
    "fiscal_avg = 10000\n",
    "print(stats.ttest_1samp(claims_cust.claim_amount, popmean=fiscal_avg))"
   ]
  },
  {
   "cell_type": "markdown",
   "id": "5d4576d6",
   "metadata": {
    "ExecuteTime": {
     "end_time": "2022-10-21T21:36:34.822773Z",
     "start_time": "2022-10-21T21:36:34.802674Z"
    }
   },
   "source": [
    "Considering a CI of **99%**, as the p-value is less than 0.01, we **can reject the Null Hypothesis**\n",
    "\n",
    "**Business Conclusion:** <br>\n",
    "The fiscal average claim amount for current year is **significantly greater** than `$10,000`"
   ]
  },
  {
   "cell_type": "markdown",
   "id": "801e8d66",
   "metadata": {},
   "source": [
    "### 19. Is there any diference between age groups and insurance claims?"
   ]
  },
  {
   "cell_type": "code",
   "execution_count": 109,
   "id": "d7215904",
   "metadata": {
    "ExecuteTime": {
     "end_time": "2022-11-01T04:17:49.200877Z",
     "start_time": "2022-11-01T04:17:49.186901Z"
    }
   },
   "outputs": [
    {
     "name": "stdout",
     "output_type": "stream",
     "text": [
      "Mean claim amount:\n",
      "Adult :  12836.305475653651  | Youth :  11599.630757341107  | Children :  18300.875\n"
     ]
    }
   ],
   "source": [
    "adult_claims = claims_cust.loc[claims_cust.cust_cat == 'Adult', 'claim_amount']\n",
    "youth_claims = claims_cust.loc[claims_cust.cust_cat == 'Youth', 'claim_amount']\n",
    "children_claims = claims_cust.loc[claims_cust.cust_cat == 'Children', 'claim_amount']\n",
    "\n",
    "print('Mean claim amount:')\n",
    "print('Adult : ', adult_claims.mean() , ' | Youth : ', youth_claims.mean(), ' | Children : ', children_claims.mean())"
   ]
  },
  {
   "cell_type": "markdown",
   "id": "b49a3413",
   "metadata": {
    "ExecuteTime": {
     "end_time": "2022-10-22T20:44:58.428513Z",
     "start_time": "2022-10-22T20:44:58.405504Z"
    }
   },
   "source": [
    "Since there are three independent samples, `f-test` will help in concluding the hypothesis\n",
    "\n",
    "**Ho :** The mean of amount claimed by Adults, Youths & Children customers are similar <br>\n",
    "**Ha :** The mean of amount claimed by Adults, Youths & Children customers are significantly different compared to Youth customers"
   ]
  },
  {
   "cell_type": "code",
   "execution_count": 110,
   "id": "5bed61b3",
   "metadata": {
    "ExecuteTime": {
     "end_time": "2022-11-01T04:17:49.216894Z",
     "start_time": "2022-11-01T04:17:49.201874Z"
    }
   },
   "outputs": [
    {
     "name": "stdout",
     "output_type": "stream",
     "text": [
      "F_onewayResult(statistic=1.733755722252587, pvalue=0.17711331981256714)\n"
     ]
    }
   ],
   "source": [
    "print(stats.f_oneway(adult_claims, youth_claims, children_claims))"
   ]
  },
  {
   "cell_type": "markdown",
   "id": "b86037e6",
   "metadata": {
    "ExecuteTime": {
     "end_time": "2022-10-21T21:36:34.822773Z",
     "start_time": "2022-10-21T21:36:34.802674Z"
    }
   },
   "source": [
    "Considering a CI of **95%**, as the p-value is greater than 0.05, we **fail to reject the Null Hypothesis**\n",
    "\n",
    "**Business Conclusion:** <br>\n",
    "The mean of amount claimed by Adults, Youths & Children customers are **statistically similar**"
   ]
  },
  {
   "cell_type": "markdown",
   "id": "1b17da6f",
   "metadata": {},
   "source": [
    "### 20. Is there any relationship between total number of policy claims and the claimed amount?"
   ]
  },
  {
   "cell_type": "markdown",
   "id": "c753616a",
   "metadata": {},
   "source": [
    "Spearman's rank correlation coefficient can be used to check for relationship between one continuous and one ordinal categorical variables"
   ]
  },
  {
   "cell_type": "code",
   "execution_count": 111,
   "id": "5a9c9e85",
   "metadata": {
    "ExecuteTime": {
     "end_time": "2022-11-01T04:17:49.232868Z",
     "start_time": "2022-11-01T04:17:49.217889Z"
    }
   },
   "outputs": [
    {
     "data": {
      "text/plain": [
       "SpearmanrResult(correlation=0.0024438656269395224, pvalue=0.9361209394901033)"
      ]
     },
     "execution_count": 111,
     "metadata": {},
     "output_type": "execute_result"
    }
   ],
   "source": [
    "stats.spearmanr(claims_cust.claim_amount, claims_cust.total_policy_claims)"
   ]
  },
  {
   "cell_type": "markdown",
   "id": "e7baad6e",
   "metadata": {
    "ExecuteTime": {
     "end_time": "2022-10-23T19:48:46.038735Z",
     "start_time": "2022-10-23T19:48:46.022735Z"
    }
   },
   "source": [
    "Since the absolute value of correlation coefficient between the two variables is < 0.5, there is **no relationship** between the two variables.\n",
    "\n",
    "**Business Conclusion:** <br>\n",
    "There is **no relationship** between total number of policy claims and the claimed amount."
   ]
  },
  {
   "cell_type": "code",
   "execution_count": null,
   "id": "81407d77",
   "metadata": {},
   "outputs": [],
   "source": []
  }
 ],
 "metadata": {
  "kernelspec": {
   "display_name": "Python 3 (ipykernel)",
   "language": "python",
   "name": "python3"
  },
  "language_info": {
   "codemirror_mode": {
    "name": "ipython",
    "version": 3
   },
   "file_extension": ".py",
   "mimetype": "text/x-python",
   "name": "python",
   "nbconvert_exporter": "python",
   "pygments_lexer": "ipython3",
   "version": "3.9.12"
  },
  "toc": {
   "base_numbering": 1,
   "nav_menu": {
    "height": "417px",
    "width": "782px"
   },
   "number_sections": true,
   "sideBar": true,
   "skip_h1_title": false,
   "title_cell": "Table of Contents",
   "title_sidebar": "Contents",
   "toc_cell": false,
   "toc_position": {},
   "toc_section_display": true,
   "toc_window_display": false
  },
  "varInspector": {
   "cols": {
    "lenName": 16,
    "lenType": 16,
    "lenVar": 40
   },
   "kernels_config": {
    "python": {
     "delete_cmd_postfix": "",
     "delete_cmd_prefix": "del ",
     "library": "var_list.py",
     "varRefreshCmd": "print(var_dic_list())"
    },
    "r": {
     "delete_cmd_postfix": ") ",
     "delete_cmd_prefix": "rm(",
     "library": "var_list.r",
     "varRefreshCmd": "cat(var_dic_list()) "
    }
   },
   "types_to_exclude": [
    "module",
    "function",
    "builtin_function_or_method",
    "instance",
    "_Feature"
   ],
   "window_display": false
  }
 },
 "nbformat": 4,
 "nbformat_minor": 5
}
